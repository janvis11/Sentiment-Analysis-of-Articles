{
  "nbformat": 4,
  "nbformat_minor": 0,
  "metadata": {
    "colab": {
      "provenance": []
    },
    "kernelspec": {
      "name": "python3",
      "display_name": "Python 3"
    },
    "language_info": {
      "name": "python"
    }
  },
  "cells": [
    {
      "cell_type": "code",
      "source": [
        "from textblob import TextBlob\n",
        "from newspaper import Article\n",
        "import nltk\n",
        "nltk.download('punkt_tab')\n",
        "\n",
        "\n",
        "\n",
        "\n"
      ],
      "metadata": {
        "colab": {
          "base_uri": "https://localhost:8080/"
        },
        "id": "_Kjz3mJaYPpY",
        "outputId": "fd90b52a-34df-4ae2-b36e-2e0be32da556"
      },
      "execution_count": 27,
      "outputs": [
        {
          "output_type": "stream",
          "name": "stderr",
          "text": [
            "[nltk_data] Downloading package punkt_tab to /root/nltk_data...\n",
            "[nltk_data]   Package punkt_tab is already up-to-date!\n"
          ]
        },
        {
          "output_type": "stream",
          "name": "stdout",
          "text": [
            "The most important religious festivals such as Christmas, Rosh Hashanah, Diwali, Eid-al-Fitr and Eid-al-Adha serve to mark out the year.\n",
            "In the Philippines, each day of the year has at least one specific religious festival, either from Catholic, Islamic, or indigenous origins.\n",
            "[29]Buddhist religious festivals, such as Esala Perahera are held in Sri Lanka and Thailand.\n",
            "[32] Sub-categories include comedy festivals, rock festivals, jazz festivals and buskers festivals; poetry festivals,[33] theatre festivals, and storytelling festivals; and re-enactment festivals such as Renaissance fairs.\n",
            "[16][25]Study of festivals [ edit ]See also [ edit ]References [ edit ]Further reading [ edit ]Ian Yeoman, ed.\n"
          ]
        }
      ]
    },
    {
      "cell_type": "code",
      "source": [
        "# Define the URL of the article\n",
        "url = \"https://en.wikipedia.org/wiki/Festivals\"\n",
        "\n",
        "# Create an Article object and download the article\n",
        "article = Article(url)\n",
        "article.download()\n",
        "article.parse()\n",
        "article.nlp()\n",
        "\n",
        "# Get the summary of the article\n",
        "text = article.summary\n",
        "print(text)\n",
        "\n",
        "blob= TextBlob(text)\n",
        "sentiment= blob.sentiment.polarity # -1 to 1\n",
        "if sentiment > 0:\n",
        "  print(\"Positive sentiment detected\")\n",
        "elif sentiment == 0:\n",
        "  print(\"Neutral sentiment detected\")\n",
        "else:\n",
        "  print(\"Negative sentiment detected\")"
      ],
      "metadata": {
        "colab": {
          "base_uri": "https://localhost:8080/"
        },
        "id": "7H3qXfEXYt9L",
        "outputId": "cf9ea69a-d9e4-42ff-c8b4-444899cb8644"
      },
      "execution_count": 39,
      "outputs": [
        {
          "output_type": "stream",
          "name": "stdout",
          "text": [
            "The most important religious festivals such as Christmas, Rosh Hashanah, Diwali, Eid-al-Fitr and Eid-al-Adha serve to mark out the year.\n",
            "In the Philippines, each day of the year has at least one specific religious festival, either from Catholic, Islamic, or indigenous origins.\n",
            "[29]Buddhist religious festivals, such as Esala Perahera are held in Sri Lanka and Thailand.\n",
            "[32] Sub-categories include comedy festivals, rock festivals, jazz festivals and buskers festivals; poetry festivals,[33] theatre festivals, and storytelling festivals; and re-enactment festivals such as Renaissance fairs.\n",
            "[16][25]Study of festivals [ edit ]See also [ edit ]References [ edit ]Further reading [ edit ]Ian Yeoman, ed.\n",
            "Positive sentiment detected\n"
          ]
        }
      ]
    }
  ]
}